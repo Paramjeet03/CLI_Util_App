{
 "cells": [
  {
   "cell_type": "code",
   "execution_count": null,
   "id": "6e2d1c87",
   "metadata": {},
   "outputs": [],
   "source": [
    "from File_operation import FileOperation  # Make sure File_operation.py exists\n",
    "\n",
    "class Main_menu:\n",
    "    def __init__(self):\n",
    "        self.option = \"\"\n",
    "\n",
    "    def menu_entry(self):\n",
    "        self.option = input(\"Enter the option no. :- You Want To Enter \").strip()\n",
    "        while self.option not in [\"1\", \"2\", \"3\", \"4\"]:\n",
    "            self.option = input(\"Enter the valid option :- 1/2/3/4\").strip()\n",
    "\n",
    "        if self.option == \"1\":\n",
    "            self.File_wale_kaam()\n",
    "        elif self.option == \"4\":\n",
    "            print(\"Thank you for using the app.\")\n",
    "            exit()\n",
    "\n",
    "    def Welcome(self):\n",
    "        print(\"\\n\" + \"=\" * 60)\n",
    "        print(\"🧰\".center(60))\n",
    "        print(\"   PYTHON UTILITY APP - Dominate the world   \".center(60))\n",
    "        print(\"🧰\".center(60))\n",
    "        print(\"=\" * 60)\n",
    "        print(\"Select a utility category to continue:\\n\")\n",
    "        print(\"  1. 📁 File Operations        - Read, Create, or Delete files\")\n",
    "        print(\"  2. 🔢 Math Utilities         - Factorial, Prime Check, etc.\")\n",
    "        print(\"  3. 📝 Text Utilities         - Word Count, Palindrome Check\")\n",
    "        print(\"  4. ❌ Exit                   - Close the application\")\n",
    "        print(\"-\" * 60)\n",
    "\n",
    "        self.menu_entry()\n",
    "\n",
    "    def File_wale_kaam(self):\n",
    "        self.option_f = \"\"\n",
    "\n",
    "        def F_W_K_Display():\n",
    "            print(\"🧰\".center(60))\n",
    "            print(\"   PYTHON UTILITY APP - File Operations   \".center(60))\n",
    "            print(\"🧰\".center(60))\n",
    "            print(\"=\" * 60)\n",
    "            print(\"Select a file operation:\\n\")\n",
    "            print(\"  1. 📁 Read File\")\n",
    "            print(\"  2. 📝 Create File\")\n",
    "            print(\"  3. ❌ Delete File\")\n",
    "            print(\"  4. 🔙 Return to Main Menu\")\n",
    "        F_W_K_Display()\n",
    "        \n",
    "\n",
    "        def Work_f_k():\n",
    "            from File_operation import FileOperation  # Ensure this module exists\n",
    "            f = FileOperation()\n",
    "            print(\"plz Set the File Path\")\n",
    "            f.set_path()\n",
    "            \n",
    "\n",
    "            self.option_f = input().strip()\n",
    "            while self.option_f not in [\"1\", \"2\", \"3\", \"4\"]:\n",
    "                self.option_f = input(\"Enter the valid option :- 1/2/3/4\").strip()\n",
    "\n",
    "            if self.option_f == \"1\":\n",
    "                f.read_file()\n",
    "            elif self.option_f == \"2\":\n",
    "                f.write_file()\n",
    "            elif self.option_f == \"3\":\n",
    "                f.delete_file()\n",
    "            elif self.option_f == \"4\":\n",
    "                self.Welcome()  # 🔁 Call Welcome again\n",
    "\n",
    "        Work_f_k()\n",
    "\n"
   ]
  },
  {
   "cell_type": "code",
   "execution_count": 12,
   "id": "d554c90f",
   "metadata": {},
   "outputs": [],
   "source": [
    "a=Main_menu()"
   ]
  },
  {
   "cell_type": "code",
   "execution_count": 13,
   "id": "708fae32",
   "metadata": {},
   "outputs": [
    {
     "name": "stdout",
     "output_type": "stream",
     "text": [
      "\n",
      "============================================================\n",
      "                             🧰                              \n",
      "          PYTHON UTILITY APP - Dominate the world           \n",
      "                             🧰                              \n",
      "============================================================\n",
      "Select a utility category to continue:\n",
      "\n",
      "  1. 📁 File Operations        - Read, Create, or Delete files\n",
      "  2. 🔢 Math Utilities         - Factorial, Prime Check, etc.\n",
      "  3. 📝 Text Utilities         - Word Count, Palindrome Check\n",
      "  4. ❌ Exit                   - Close the application\n",
      "------------------------------------------------------------\n",
      "plz Set the File Path\n",
      "                             🧰                              \n",
      "            PYTHON UTILITY APP - File Operations            \n",
      "                             🧰                              \n",
      "============================================================\n",
      "Select a file operation:\n",
      "\n",
      "  1. 📁 Read File\n",
      "  2. 📝 Create File\n",
      "  3. ❌ Delete File\n",
      "  4. 🔙 Return to Main Menu\n",
      "❌ File not found at: dsd\n"
     ]
    }
   ],
   "source": [
    "a.Welcome()"
   ]
  },
  {
   "cell_type": "code",
   "execution_count": null,
   "id": "aa759d4a",
   "metadata": {},
   "outputs": [],
   "source": []
  },
  {
   "cell_type": "code",
   "execution_count": null,
   "id": "3e2ccc50",
   "metadata": {},
   "outputs": [],
   "source": []
  },
  {
   "cell_type": "code",
   "execution_count": null,
   "id": "b711992a",
   "metadata": {},
   "outputs": [],
   "source": []
  }
 ],
 "metadata": {
  "kernelspec": {
   "display_name": "Python 3",
   "language": "python",
   "name": "python3"
  },
  "language_info": {
   "codemirror_mode": {
    "name": "ipython",
    "version": 3
   },
   "file_extension": ".py",
   "mimetype": "text/x-python",
   "name": "python",
   "nbconvert_exporter": "python",
   "pygments_lexer": "ipython3",
   "version": "3.13.5"
  }
 },
 "nbformat": 4,
 "nbformat_minor": 5
}
