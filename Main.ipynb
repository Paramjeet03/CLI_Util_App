{
 "cells": [
  {
   "cell_type": "code",
   "execution_count": 7,
   "id": "6e2d1c87",
   "metadata": {},
   "outputs": [],
   "source": [
    "class Main_menu:\n",
    "    def Welcome():\n",
    "        print(\"\\n\" + \"=\" * 60)\n",
    "        print(\"🧰\".center(60))\n",
    "        print(\"   PYTHON UTILITY APP - Dominate the world   \".center(60))\n",
    "        print(\"🧰\".center(60))\n",
    "        print(\"=\" * 60)\n",
    "        print(\"Select a utility category to continue:\\n\")\n",
    "        print(\"  1. 📁 File Operations        - Read, Create, or Delete files\")\n",
    "        print(\"  2. 🔢 Math Utilities         - Factorial, Prime Check, etc.\")\n",
    "        print(\"  3. 📝 Text Utilities         - Word Count, Palindrome Check\")\n",
    "        print(\"  4. ❌ Exit                   - Close the application\")\n",
    "        print(\"-\" * 60)\n",
    "    \n",
    "        \n",
    "\n"
   ]
  },
  {
   "cell_type": "code",
   "execution_count": 8,
   "id": "d554c90f",
   "metadata": {},
   "outputs": [],
   "source": [
    "a=Main_menu"
   ]
  },
  {
   "cell_type": "code",
   "execution_count": 9,
   "id": "708fae32",
   "metadata": {},
   "outputs": [
    {
     "name": "stdout",
     "output_type": "stream",
     "text": [
      "\n",
      "============================================================\n",
      "                             🧰                              \n",
      "          PYTHON UTILITY APP - Dominate the world           \n",
      "                             🧰                              \n",
      "============================================================\n",
      "Select a utility category to continue:\n",
      "\n",
      "  1. 📁 File Operations        - Read, Create, or Delete files\n",
      "  2. 🔢 Math Utilities         - Factorial, Prime Check, etc.\n",
      "  3. 📝 Text Utilities         - Word Count, Palindrome Check\n",
      "  4. ❌ Exit                   - Close the application\n",
      "------------------------------------------------------------\n"
     ]
    }
   ],
   "source": [
    "a.Welcome()"
   ]
  },
  {
   "cell_type": "code",
   "execution_count": null,
   "id": "aa759d4a",
   "metadata": {},
   "outputs": [],
   "source": []
  }
 ],
 "metadata": {
  "kernelspec": {
   "display_name": "Python 3",
   "language": "python",
   "name": "python3"
  },
  "language_info": {
   "codemirror_mode": {
    "name": "ipython",
    "version": 3
   },
   "file_extension": ".py",
   "mimetype": "text/x-python",
   "name": "python",
   "nbconvert_exporter": "python",
   "pygments_lexer": "ipython3",
   "version": "3.13.5"
  }
 },
 "nbformat": 4,
 "nbformat_minor": 5
}
