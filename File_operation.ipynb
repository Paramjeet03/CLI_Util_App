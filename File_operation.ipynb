{
 "cells": [
  {
   "cell_type": "code",
   "execution_count": 16,
   "id": "31524544",
   "metadata": {},
   "outputs": [],
   "source": [
    "import os\n",
    "\n",
    "class FileOperation:\n",
    "    def __init__(self):\n",
    "        self.f_path = \"\"\n",
    "\n",
    "    def set_path(self):\n",
    "        self.f_path = input(\"Enter your file path: \")\n",
    "\n",
    "    def read_file(self):\n",
    "        try:\n",
    "            with open(self.f_path, \"r\") as f:\n",
    "                content = f.read()\n",
    "                print(\"\\n📄 File Content:\\n\", content)\n",
    "        except FileNotFoundError:\n",
    "            print(\"❌ File not found at:\", self.f_path)\n",
    "        except Exception as e:\n",
    "            print(\"❌ Error reading file:\", e)\n",
    "\n",
    "    def write_file(self):\n",
    "        try:\n",
    "            with open(self.f_path, \"w\") as f:\n",
    "                data = input(\"✍️ Enter the data to write to the file:\\n\")\n",
    "                f.write(data + \"\\n\")\n",
    "                print(\"✅ Data written successfully.\")\n",
    "        except Exception as e:\n",
    "            print(\"❌ Error writing to file:\", e)\n",
    "\n",
    "    def delete_file(self):\n",
    "        try:\n",
    "            if os.path.exists(self.f_path):\n",
    "                os.remove(self.f_path)\n",
    "                print(\"🗑️ File deleted successfully.\")\n",
    "            else:\n",
    "                print(\"❌ File not found at:\", self.f_path)\n",
    "        except Exception as e:\n",
    "            print(\"❌ Error deleting file:\", e)\n",
    "\n"
   ]
  },
  {
   "cell_type": "code",
   "execution_count": 21,
   "id": "991e1509",
   "metadata": {},
   "outputs": [],
   "source": [
    "test=FileOperation()"
   ]
  },
  {
   "cell_type": "code",
   "execution_count": 22,
   "id": "307232af",
   "metadata": {},
   "outputs": [],
   "source": [
    "test.set_path()"
   ]
  },
  {
   "cell_type": "code",
   "execution_count": 25,
   "id": "da47ba5c",
   "metadata": {},
   "outputs": [
    {
     "name": "stdout",
     "output_type": "stream",
     "text": [
      "🗑️ File deleted successfully.\n"
     ]
    }
   ],
   "source": [
    "test.delete_file()"
   ]
  },
  {
   "cell_type": "code",
   "execution_count": null,
   "id": "10f48529",
   "metadata": {},
   "outputs": [],
   "source": [
    "C:\\Users\\Paramjeet\\OneDrive\\Desktop\\question.txt"
   ]
  }
 ],
 "metadata": {
  "kernelspec": {
   "display_name": "Python 3",
   "language": "python",
   "name": "python3"
  },
  "language_info": {
   "codemirror_mode": {
    "name": "ipython",
    "version": 3
   },
   "file_extension": ".py",
   "mimetype": "text/x-python",
   "name": "python",
   "nbconvert_exporter": "python",
   "pygments_lexer": "ipython3",
   "version": "3.13.5"
  }
 },
 "nbformat": 4,
 "nbformat_minor": 5
}
